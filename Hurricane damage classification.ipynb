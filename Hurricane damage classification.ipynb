{
 "cells": [
  {
   "cell_type": "markdown",
   "metadata": {},
   "source": [
    "### Importing libraries"
   ]
  },
  {
   "attachments": {},
   "cell_type": "markdown",
   "metadata": {},
   "source": []
  },
  {
   "cell_type": "code",
   "execution_count": 1,
   "metadata": {},
   "outputs": [],
   "source": [
    "import matplotlib.pyplot as plt\n",
    "import os\n",
    "import numpy as np\n",
    "import pandas as pd\n",
    "import PIL\n",
    "import PIL.Image\n",
    "import tensorflow as tf\n",
    "os.getcwd()\n",
    "from glob import glob\n",
    "import random\n",
    "# import seaborn as sns\n",
    "pd.set_option('display.max_colwidth', None)\n",
    "import datetime"
   ]
  },
  {
   "cell_type": "code",
   "execution_count": 2,
   "metadata": {},
   "outputs": [],
   "source": [
    "img_paths=[]\n",
    "img_labels=[]\n",
    "for i in glob('archive/**',recursive=True):\n",
    "    if i.endswith('.jpeg'):\n",
    "        a=i.split('/')\n",
    "        img_paths.append(i)\n",
    "        img_labels.append(a[-2])"
   ]
  },
  {
   "cell_type": "code",
   "execution_count": 3,
   "metadata": {},
   "outputs": [
    {
     "data": {
      "text/plain": [
       "(23000, 23000)"
      ]
     },
     "execution_count": 3,
     "metadata": {},
     "output_type": "execute_result"
    }
   ],
   "source": [
    "len(img_paths),len(img_labels)"
   ]
  },
  {
   "cell_type": "code",
   "execution_count": 4,
   "metadata": {},
   "outputs": [
    {
     "data": {
      "text/html": [
       "<div>\n",
       "<style scoped>\n",
       "    .dataframe tbody tr th:only-of-type {\n",
       "        vertical-align: middle;\n",
       "    }\n",
       "\n",
       "    .dataframe tbody tr th {\n",
       "        vertical-align: top;\n",
       "    }\n",
       "\n",
       "    .dataframe thead th {\n",
       "        text-align: right;\n",
       "    }\n",
       "</style>\n",
       "<table border=\"1\" class=\"dataframe\">\n",
       "  <thead>\n",
       "    <tr style=\"text-align: right;\">\n",
       "      <th></th>\n",
       "      <th>0</th>\n",
       "      <th>1</th>\n",
       "    </tr>\n",
       "  </thead>\n",
       "  <tbody>\n",
       "    <tr>\n",
       "      <th>16081</th>\n",
       "      <td>archive/test_another/damage/-95.083028_30.017774.jpeg</td>\n",
       "      <td>damage</td>\n",
       "    </tr>\n",
       "    <tr>\n",
       "      <th>13877</th>\n",
       "      <td>archive/train_another/damage/-95.070089_29.831028000000003.jpeg</td>\n",
       "      <td>damage</td>\n",
       "    </tr>\n",
       "    <tr>\n",
       "      <th>12706</th>\n",
       "      <td>archive/train_another/damage/-93.987121_29.894658000000003.jpeg</td>\n",
       "      <td>damage</td>\n",
       "    </tr>\n",
       "    <tr>\n",
       "      <th>20208</th>\n",
       "      <td>archive/test_another/damage/-95.157131_30.021141999999998.jpeg</td>\n",
       "      <td>damage</td>\n",
       "    </tr>\n",
       "    <tr>\n",
       "      <th>14307</th>\n",
       "      <td>archive/test_another/no_damage/-95.223651_30.02079.jpeg</td>\n",
       "      <td>no_damage</td>\n",
       "    </tr>\n",
       "  </tbody>\n",
       "</table>\n",
       "</div>"
      ],
      "text/plain": [
       "                                                                     0  \\\n",
       "16081            archive/test_another/damage/-95.083028_30.017774.jpeg   \n",
       "13877  archive/train_another/damage/-95.070089_29.831028000000003.jpeg   \n",
       "12706  archive/train_another/damage/-93.987121_29.894658000000003.jpeg   \n",
       "20208   archive/test_another/damage/-95.157131_30.021141999999998.jpeg   \n",
       "14307          archive/test_another/no_damage/-95.223651_30.02079.jpeg   \n",
       "\n",
       "               1  \n",
       "16081     damage  \n",
       "13877     damage  \n",
       "12706     damage  \n",
       "20208     damage  \n",
       "14307  no_damage  "
      ]
     },
     "execution_count": 4,
     "metadata": {},
     "output_type": "execute_result"
    }
   ],
   "source": [
    "img_path = pd.Series(img_paths).astype(str)\n",
    "labels=pd.Series(img_labels)\n",
    "data = pd.concat([img_path,labels],axis=1)\n",
    "data.sample(5)"
   ]
  },
  {
   "cell_type": "code",
   "execution_count": 5,
   "metadata": {},
   "outputs": [
    {
     "data": {
      "text/plain": [
       "((17250, 2), (5750, 2))"
      ]
     },
     "execution_count": 5,
     "metadata": {},
     "output_type": "execute_result"
    }
   ],
   "source": [
    "from sklearn.model_selection import train_test_split\n",
    "train_set , test_set = train_test_split(data,test_size=0.25,random_state=0)\n",
    "train_set.shape,test_set.shape"
   ]
  },
  {
   "cell_type": "code",
   "execution_count": 6,
   "metadata": {},
   "outputs": [
    {
     "name": "stdout",
     "output_type": "stream",
     "text": [
      "Found 15525 validated image filenames belonging to 2 classes.\n",
      "Found 1725 validated image filenames belonging to 2 classes.\n",
      "Found 5750 validated image filenames belonging to 2 classes.\n"
     ]
    }
   ],
   "source": [
    "import tensorflow as tf\n",
    "from tensorflow.keras.preprocessing.image import ImageDataGenerator\n",
    "from tensorflow import keras\n",
    "\n",
    "train_gen = ImageDataGenerator(\n",
    "        validation_split=0.1,\n",
    "        rescale=1/255\n",
    "        # rotation_range=10, # rotation\n",
    "        # width_shift_range=0.2, # horizontal shift\n",
    "        # height_shift_range=0.2, # vertical shift\n",
    "        # zoom_range=0.2, # zoom\n",
    "        # horizontal_flip=True, # horizontal flip\n",
    "        # brightness_range=[0.2,1.2]\n",
    "        ) # brightness)\n",
    "\n",
    "test_gen = ImageDataGenerator(\n",
    "    rescale=1/255\n",
    ") # brightness)\n",
    "\n",
    "data_train = train_gen.flow_from_dataframe(\n",
    "    dataframe = train_set,\n",
    "    x_col = 0,\n",
    "    y_col = 1,\n",
    "    target_size = (128,128),\n",
    "    color_mode = 'rgb',\n",
    "    class_mode = 'categorical',\n",
    "    shuffle = True,\n",
    "    subset = 'training',\n",
    "    batch_size=32,\n",
    "    seed=2020\n",
    ")\n",
    "\n",
    "data_val = train_gen.flow_from_dataframe(\n",
    "    dataframe = train_set,\n",
    "    x_col = 0,\n",
    "    y_col = 1,\n",
    "    target_size = (128,128),\n",
    "    color_mode = 'rgb',\n",
    "    class_mode = 'categorical',\n",
    "    shuffle = False,\n",
    "    subset = 'validation',\n",
    "    batch_size=32,\n",
    "    seed=2020\n",
    ")\n",
    "\n",
    "data_test = test_gen.flow_from_dataframe(\n",
    "    dataframe = test_set,\n",
    "    x_col = 0,\n",
    "    y_col = 1,\n",
    "    target_size = (128,128),\n",
    "    color_mode = 'rgb',\n",
    "    class_mode = 'categorical',\n",
    "    shuffle = False,\n",
    "    batch_size=32,\n",
    "    seed=2020\n",
    ")"
   ]
  },
  {
   "attachments": {},
   "cell_type": "markdown",
   "metadata": {},
   "source": [
    "    Importing images"
   ]
  },
  {
   "cell_type": "code",
   "execution_count": 7,
   "metadata": {},
   "outputs": [],
   "source": [
    "# import matplotlib.pyplot as plt\n",
    "\n",
    "# plt.figure(figsize=(10, 10))\n",
    "# for images, labels in train_data:\n",
    "#   for i in range(9):\n",
    "#     ax = plt.subplot(3, 3, i + 1)\n",
    "#     plt.imshow(images[i].numpy().astype(\"uint8\"))\n",
    "#     plt.title(class_names[labels[i]])\n",
    "#     plt.axis(\"off\")"
   ]
  },
  {
   "attachments": {},
   "cell_type": "markdown",
   "metadata": {},
   "source": [
    "## Randomized search application"
   ]
  },
  {
   "cell_type": "code",
   "execution_count": 8,
   "metadata": {},
   "outputs": [],
   "source": [
    "from sklearn.model_selection import RandomizedSearchCV\n",
    "from keras.wrappers.scikit_learn import KerasClassifier\n",
    "from tensorflow import keras\n",
    "from keras.models import Sequential\n",
    "from keras.layers import Dense, Dropout, Flatten, Conv2D, MaxPooling2D\n",
    "from keras.optimizers import Adam\n"
   ]
  },
  {
   "cell_type": "code",
   "execution_count": 9,
   "metadata": {},
   "outputs": [
    {
     "name": "stderr",
     "output_type": "stream",
     "text": [
      "2023-03-17 22:31:02.007636: I tensorflow/core/common_runtime/pluggable_device/pluggable_device_factory.cc:306] Could not identify NUMA node of platform GPU ID 0, defaulting to 0. Your kernel may not have been built with NUMA support.\n",
      "2023-03-17 22:31:02.007919: I tensorflow/core/common_runtime/pluggable_device/pluggable_device_factory.cc:272] Created TensorFlow device (/job:localhost/replica:0/task:0/device:GPU:0 with 0 MB memory) -> physical PluggableDevice (device: 0, name: METAL, pci bus id: <undefined>)\n"
     ]
    },
    {
     "name": "stdout",
     "output_type": "stream",
     "text": [
      "Metal device set to: Apple M2\n",
      "\n",
      "Search: Running Trial #1\n",
      "\n",
      "Value             |Best Value So Far |Hyperparameter\n",
      "sgd               |?                 |optimizer\n",
      "0.0001            |?                 |learning_rate\n",
      "\n",
      "Epoch 1/15\n"
     ]
    },
    {
     "name": "stderr",
     "output_type": "stream",
     "text": [
      "2023-03-17 22:31:02.974470: W tensorflow/core/platform/profile_utils/cpu_utils.cc:128] Failed to get CPU frequency: 0 Hz\n",
      "2023-03-17 22:31:03.465000: I tensorflow/core/grappler/optimizers/custom_graph_optimizer_registry.cc:114] Plugin optimizer for device_type GPU is enabled.\n"
     ]
    },
    {
     "name": "stdout",
     "output_type": "stream",
     "text": [
      "  6/486 [..............................] - ETA: 28s - loss: 0.9782 - accuracy: 0.5208WARNING:tensorflow:Callback method `on_train_batch_end` is slow compared to the batch time (batch time: 0.0297s vs `on_train_batch_end` time: 0.0448s). Check your callbacks.\n",
      "486/486 [==============================] - ETA: 0s - loss: 0.6323 - accuracy: 0.7197"
     ]
    },
    {
     "name": "stderr",
     "output_type": "stream",
     "text": [
      "2023-03-17 22:32:09.556758: I tensorflow/core/grappler/optimizers/custom_graph_optimizer_registry.cc:114] Plugin optimizer for device_type GPU is enabled.\n"
     ]
    },
    {
     "name": "stdout",
     "output_type": "stream",
     "text": [
      "486/486 [==============================] - 70s 141ms/step - loss: 0.6323 - accuracy: 0.7197 - val_loss: 0.6041 - val_accuracy: 0.6632\n",
      "Epoch 2/15\n",
      "486/486 [==============================] - 74s 153ms/step - loss: 0.4316 - accuracy: 0.8377 - val_loss: 0.4129 - val_accuracy: 0.7925\n",
      "Epoch 3/15\n",
      "486/486 [==============================] - 74s 153ms/step - loss: 0.3577 - accuracy: 0.8718 - val_loss: 0.3049 - val_accuracy: 0.8968\n",
      "Epoch 4/15\n",
      "146/486 [========>.....................] - ETA: 46s - loss: 0.3319 - accuracy: 0.8818"
     ]
    }
   ],
   "source": [
    "from tensorflow.keras import layers\n",
    "from keras_tuner import RandomSearch\n",
    "from keras_tuner.engine.hyperparameters import HyperParameters\n",
    "from keras.callbacks import TensorBoard, EarlyStopping\n",
    "\n",
    "def create_model_alexnet(hp):\n",
    "    model = keras.Sequential()\n",
    "    model.add(layers.Conv2D(filters=96, kernel_size=(11,11), strides=(4,4), activation='relu', input_shape=(128,128,3)))\n",
    "    model.add(layers.BatchNormalization())\n",
    "    model.add(layers.MaxPool2D(pool_size=(3,3), strides=(2,2)))\n",
    "    model.add(layers.Conv2D(filters=256, kernel_size=(5,5), strides=(1,1), activation='relu', padding=\"same\"))\n",
    "    model.add(layers.BatchNormalization())\n",
    "    model.add(layers.MaxPool2D(pool_size=(3,3), strides=(2,2)))\n",
    "    model.add(layers.Conv2D(filters=384, kernel_size=(3,3), strides=(1,1), activation='relu', padding=\"same\"))\n",
    "    model.add(layers.BatchNormalization())\n",
    "    model.add(layers.Conv2D(filters=384, kernel_size=(3,3), strides=(1,1), activation='relu', padding=\"same\"))\n",
    "    model.add(layers.BatchNormalization())\n",
    "    model.add(layers.Conv2D(filters=256, kernel_size=(3,3), strides=(1,1), activation='relu', padding=\"same\"))\n",
    "    model.add(layers.BatchNormalization())\n",
    "    model.add(layers.MaxPool2D(pool_size=(3,3), strides=(2,2)))\n",
    "    model.add(layers.Flatten())\n",
    "    model.add(layers.Dense(4096, activation='relu'))\n",
    "    model.add(layers.Dropout(0.5))\n",
    "    model.add(layers.Dense(4096, activation='relu'))\n",
    "    model.add(layers.Dropout(0.5))\n",
    "    model.add(layers.Dense(2, activation='sigmoid'))\n",
    "    # model.add(layers.Dense(1, activation='sigmoid'))\n",
    "    \n",
    "    model.compile(optimizer=hp.Choice('optimizer', values=['adam', 'sgd']), \n",
    "                  loss='binary_crossentropy', \n",
    "                  metrics=['accuracy'])\n",
    "\n",
    "    # model.optimizer.learning_rate = hp.Float('learning_rate', 1e-7, 1e-4, sampling='log')\n",
    "    model.optimizer.learning_rate = hp.Choice('learning_rate', values=[1e-7, 1e-6, 1e-5, 1e-4])\n",
    "\n",
    "    return model\n",
    "\n",
    "\n",
    "# Define the search space of hyperparameters\n",
    "tuner_hp = HyperParameters()\n",
    "tuner_hp.Choice('optimizer', values=['adam', 'sgd', \"rmsprop\"])\n",
    "# tuner_hp.Float('learning_rate', 1e-7, 1e-4, sampling='log')\n",
    "tuner_hp.Choice('learning_rate', values=[1e-7, 1e-6, 1e-5, 1e-4])\n",
    "\n",
    "# Create the tuner object\n",
    "tuner = RandomSearch(\n",
    "    create_model_alexnet,\n",
    "    hyperparameters=tuner_hp,\n",
    "    objective='val_accuracy',\n",
    "    max_trials=10,\n",
    "    # executions_per_trial=3,\n",
    "    overwrite = True,\n",
    "    # directory='',\n",
    "    project_name='my_project')\n",
    "\n",
    "now = datetime.datetime.now()\n",
    "log_dir = f\"./logs_alexnet_{now.strftime('%Y.%m.%d_%H.%M')}\"\n",
    "\n",
    "tensorboard = TensorBoard(log_dir=log_dir, histogram_freq=0,\n",
    "                          write_graph=True, write_images=False)\n",
    "\n",
    "early_stopping = EarlyStopping(\n",
    "    monitor='val_accuracy', \n",
    "    patience=1, \n",
    "    mode = \"max\", \n",
    "    # start_from_epoch=2,\n",
    "    min_delta=0.01\n",
    "    )\n",
    "\n",
    "# Run the search\n",
    "tuner.search(data_train, \n",
    "             epochs=15, \n",
    "             validation_data = data_val, \n",
    "             callbacks=[tensorboard, early_stopping]\n",
    "             )"
   ]
  },
  {
   "cell_type": "code",
   "execution_count": 132,
   "metadata": {},
   "outputs": [],
   "source": [
    "model=tuner.get_best_models()[0]"
   ]
  },
  {
   "cell_type": "code",
   "execution_count": 133,
   "metadata": {},
   "outputs": [
    {
     "name": "stdout",
     "output_type": "stream",
     "text": [
      "Best learning rate: 1e-06\n",
      "Best optimizer: sgd\n"
     ]
    }
   ],
   "source": [
    "best_hyperparameters = tuner.get_best_hyperparameters(num_trials=1)[0]\n",
    "learning_rate = best_hyperparameters.get('learning_rate')\n",
    "optimizer = best_hyperparameters.get('optimizer')\n",
    "print(f\"Best learning rate: {learning_rate}\")\n",
    "print(f\"Best optimizer: {optimizer}\")"
   ]
  },
  {
   "cell_type": "code",
   "execution_count": 134,
   "metadata": {},
   "outputs": [
    {
     "name": "stderr",
     "output_type": "stream",
     "text": [
      "2023-03-17 13:30:52.413570: I tensorflow/core/grappler/optimizers/custom_graph_optimizer_registry.cc:114] Plugin optimizer for device_type GPU is enabled.\n"
     ]
    },
    {
     "name": "stdout",
     "output_type": "stream",
     "text": [
      "180/180 [==============================] - 4s 18ms/step - loss: 0.7029 - accuracy: 0.5000\n"
     ]
    },
    {
     "data": {
      "text/plain": [
       "[0.7029047012329102, 0.5]"
      ]
     },
     "execution_count": 134,
     "metadata": {},
     "output_type": "execute_result"
    }
   ],
   "source": [
    "model.evaluate(data_test)"
   ]
  },
  {
   "cell_type": "code",
   "execution_count": 105,
   "metadata": {},
   "outputs": [
    {
     "data": {
      "text/plain": [
       "<keras.engine.sequential.Sequential at 0x3617e75e0>"
      ]
     },
     "execution_count": 105,
     "metadata": {},
     "output_type": "execute_result"
    }
   ],
   "source": [
    "model"
   ]
  },
  {
   "cell_type": "code",
   "execution_count": 106,
   "metadata": {},
   "outputs": [
    {
     "name": "stdout",
     "output_type": "stream",
     "text": [
      "  4/180 [..............................] - ETA: 3s "
     ]
    },
    {
     "name": "stderr",
     "output_type": "stream",
     "text": [
      "2023-03-16 16:43:44.589672: I tensorflow/core/grappler/optimizers/custom_graph_optimizer_registry.cc:114] Plugin optimizer for device_type GPU is enabled.\n"
     ]
    },
    {
     "name": "stdout",
     "output_type": "stream",
     "text": [
      "180/180 [==============================] - 3s 15ms/step\n"
     ]
    }
   ],
   "source": [
    "import sklearn\n",
    "from sklearn.metrics import confusion_matrix\n",
    "y_pred = model.predict(data_test)\n",
    "y_proba = [i[1] for i in y_pred]\n",
    "y_pred_bin = np.argmax(y_pred,axis=1)\n"
   ]
  },
  {
   "cell_type": "code",
   "execution_count": 107,
   "metadata": {},
   "outputs": [
    {
     "data": {
      "image/png": "[encoded data removed]",
      "text/plain": [
       "<Figure size 640x480 with 1 Axes>"
      ]
     },
     "metadata": {},
     "output_type": "display_data"
    }
   ],
   "source": [
    "# Plot a histogram\n",
    "plt.hist(y_proba, bins=30)\n",
    "plt.show()"
   ]
  },
  {
   "cell_type": "code",
   "execution_count": 131,
   "metadata": {},
   "outputs": [
    {
     "ename": "ValueError",
     "evalue": "Classification metrics can't handle a mix of binary and continuous-multioutput targets",
     "output_type": "error",
     "traceback": [
      "\u001b[0;31m---------------------------------------------------------------------------\u001b[0m",
      "\u001b[0;31mValueError\u001b[0m                                Traceback (most recent call last)",
      "Cell \u001b[0;32mIn[131], line 2\u001b[0m\n\u001b[1;32m      1\u001b[0m \u001b[39mfrom\u001b[39;00m \u001b[39msklearn\u001b[39;00m\u001b[39m.\u001b[39;00m\u001b[39mmetrics\u001b[39;00m \u001b[39mimport\u001b[39;00m classification_report, confusion_matrix\n\u001b[0;32m----> 2\u001b[0m \u001b[39mprint\u001b[39m(classification_report(data_test\u001b[39m.\u001b[39;49mlabels,y_pred))\n\u001b[1;32m      4\u001b[0m classes\u001b[39m=\u001b[39m[\u001b[39m'\u001b[39m\u001b[39mDamage\u001b[39m\u001b[39m'\u001b[39m,\u001b[39m'\u001b[39m\u001b[39mNo Damage\u001b[39m\u001b[39m'\u001b[39m]\n\u001b[1;32m      5\u001b[0m con_mat_df \u001b[39m=\u001b[39m pd\u001b[39m.\u001b[39mDataFrame(confusion_matrix(data_test\u001b[39m.\u001b[39mlabels,y_pred),\n\u001b[1;32m      6\u001b[0m                      index \u001b[39m=\u001b[39m classes, \n\u001b[1;32m      7\u001b[0m                      columns \u001b[39m=\u001b[39m classes)\n",
      "File \u001b[0;32m~/miniconda3/envs/tensorflow/lib/python3.10/site-packages/sklearn/metrics/_classification.py:2310\u001b[0m, in \u001b[0;36mclassification_report\u001b[0;34m(y_true, y_pred, labels, target_names, sample_weight, digits, output_dict, zero_division)\u001b[0m\n\u001b[1;32m   2195\u001b[0m \u001b[39mdef\u001b[39;00m \u001b[39mclassification_report\u001b[39m(\n\u001b[1;32m   2196\u001b[0m     y_true,\n\u001b[1;32m   2197\u001b[0m     y_pred,\n\u001b[0;32m   (...)\u001b[0m\n\u001b[1;32m   2204\u001b[0m     zero_division\u001b[39m=\u001b[39m\u001b[39m\"\u001b[39m\u001b[39mwarn\u001b[39m\u001b[39m\"\u001b[39m,\n\u001b[1;32m   2205\u001b[0m ):\n\u001b[1;32m   2206\u001b[0m \u001b[39m    \u001b[39m\u001b[39m\"\"\"Build a text report showing the main classification metrics.\u001b[39;00m\n\u001b[1;32m   2207\u001b[0m \n\u001b[1;32m   2208\u001b[0m \u001b[39m    Read more in the :ref:`User Guide <classification_report>`.\u001b[39;00m\n\u001b[0;32m   (...)\u001b[0m\n\u001b[1;32m   2307\u001b[0m \u001b[39m    <BLANKLINE>\u001b[39;00m\n\u001b[1;32m   2308\u001b[0m \u001b[39m    \"\"\"\u001b[39;00m\n\u001b[0;32m-> 2310\u001b[0m     y_type, y_true, y_pred \u001b[39m=\u001b[39m _check_targets(y_true, y_pred)\n\u001b[1;32m   2312\u001b[0m     \u001b[39mif\u001b[39;00m labels \u001b[39mis\u001b[39;00m \u001b[39mNone\u001b[39;00m:\n\u001b[1;32m   2313\u001b[0m         labels \u001b[39m=\u001b[39m unique_labels(y_true, y_pred)\n",
      "File \u001b[0;32m~/miniconda3/envs/tensorflow/lib/python3.10/site-packages/sklearn/metrics/_classification.py:95\u001b[0m, in \u001b[0;36m_check_targets\u001b[0;34m(y_true, y_pred)\u001b[0m\n\u001b[1;32m     92\u001b[0m     y_type \u001b[39m=\u001b[39m {\u001b[39m\"\u001b[39m\u001b[39mmulticlass\u001b[39m\u001b[39m\"\u001b[39m}\n\u001b[1;32m     94\u001b[0m \u001b[39mif\u001b[39;00m \u001b[39mlen\u001b[39m(y_type) \u001b[39m>\u001b[39m \u001b[39m1\u001b[39m:\n\u001b[0;32m---> 95\u001b[0m     \u001b[39mraise\u001b[39;00m \u001b[39mValueError\u001b[39;00m(\n\u001b[1;32m     96\u001b[0m         \u001b[39m\"\u001b[39m\u001b[39mClassification metrics can\u001b[39m\u001b[39m'\u001b[39m\u001b[39mt handle a mix of \u001b[39m\u001b[39m{0}\u001b[39;00m\u001b[39m and \u001b[39m\u001b[39m{1}\u001b[39;00m\u001b[39m targets\u001b[39m\u001b[39m\"\u001b[39m\u001b[39m.\u001b[39mformat(\n\u001b[1;32m     97\u001b[0m             type_true, type_pred\n\u001b[1;32m     98\u001b[0m         )\n\u001b[1;32m     99\u001b[0m     )\n\u001b[1;32m    101\u001b[0m \u001b[39m# We can't have more than one value on y_type => The set is no more needed\u001b[39;00m\n\u001b[1;32m    102\u001b[0m y_type \u001b[39m=\u001b[39m y_type\u001b[39m.\u001b[39mpop()\n",
      "\u001b[0;31mValueError\u001b[0m: Classification metrics can't handle a mix of binary and continuous-multioutput targets"
     ]
    }
   ],
   "source": [
    "from sklearn.metrics import classification_report, confusion_matrix\n",
    "print(classification_report(data_test.labels,y_pred))\n",
    "\n",
    "classes=['Damage','No Damage']\n",
    "con_mat_df = pd.DataFrame(confusion_matrix(data_test.labels,y_pred),\n",
    "                     index = classes, \n",
    "                     columns = classes)\n"
   ]
  },
  {
   "cell_type": "code",
   "execution_count": null,
   "metadata": {},
   "outputs": [
    {
     "data": {
      "image/png": "[encoded data removed]",
      "text/plain": [
       "<Figure size 1200x600 with 2 Axes>"
      ]
     },
     "metadata": {},
     "output_type": "display_data"
    }
   ],
   "source": [
    "import seaborn as sns\n",
    "figure = plt.figure(figsize=(12, 6))\n",
    "sns.heatmap(con_mat_df, annot=True,cmap=plt.cm.cool,fmt='d')\n",
    "plt.tight_layout()\n",
    "plt.ylabel('Actual')\n",
    "plt.xlabel('Predicted')\n",
    "plt.show()"
   ]
  },
  {
   "cell_type": "code",
   "execution_count": 110,
   "metadata": {},
   "outputs": [],
   "source": [
    "\n",
    "#### Evaluation functions for binary classification problems\n",
    "\n",
    "# Importing libraries\n",
    "import pandas as pd\n",
    "import numpy as np\n",
    "import matplotlib.pyplot as plt\n",
    "import seaborn as sns\n",
    "from sklearn.metrics import (accuracy_score)\n",
    "from sklearn import metrics\n",
    "import sklearn.metrics as metrics\n",
    "from datetime import datetime #  time checking\n",
    "import warnings\n",
    "from sklearn import metrics\n",
    "import sklearn.metrics as metrics\n",
    "\n",
    "warnings.simplefilter(action='ignore', category=FutureWarning)\n",
    "\n",
    "# calculate the fpr and tpr for all thresholds of the classification\n",
    "\n",
    "\n",
    "def plot_roc_auc_curve(y_test, y_proba, y_pred_bin):\n",
    "    import matplotlib.pyplot as plt\n",
    "    from sklearn import metrics\n",
    "    \"\"\"\n",
    "    Plots the Receiver Operating Characteristic (ROC) curve for binary classification models.\n",
    "\n",
    "    Parameters:\n",
    "    y_test (array-like): True binary labels for the test set.\n",
    "    y_proba (array-like): Predicted probabilities for the positive class.\n",
    "    y_pred_bin (array-like): Predicted binary labels.\n",
    "    valid_score (float): Valid ROC AUC score.\n",
    "\n",
    "    Returns:\n",
    "    None\n",
    "    \"\"\"\n",
    "\n",
    "    # Calculate false positive rate, true positive rate, and thresholds for the ROC curve\n",
    "    fpr, tpr, threshold = metrics.roc_curve(y_test, y_proba)\n",
    "\n",
    "    # Calculate area under the ROC curve\n",
    "    roc_auc = metrics.auc(fpr, tpr)\n",
    "\n",
    "    # Calculate ROC AUC score for y_test and y_pred_bin\n",
    "    valid_score = metrics.roc_auc_score(y_test, y_pred_bin)\n",
    "\n",
    "    # Clear current plot\n",
    "    plt.clf()\n",
    "\n",
    "    # Set plot size and font size\n",
    "    plt.figure(figsize=(12, 12))\n",
    "    font = {'size': 16}\n",
    "    plt.rc('font', **font)\n",
    "\n",
    "    # Set plot title and plot ROC curve\n",
    "    plt.title('Receiver Operating Characteristic', fontsize=16)\n",
    "    plt.plot(fpr, tpr, 'b', label='AUC = %0.2f' % valid_score)\n",
    "    # Set plot legend and plot diagonal line\n",
    "    plt.legend(loc='lower right')\n",
    "    plt.plot([0, 1], [0, 1], 'r--')\n",
    "    # Set plot axis limits and labels\n",
    "    plt.xlim([0, 1])\n",
    "    plt.ylim([0, 1])\n",
    "    plt.ylabel('True Positive Rate', fontsize=16)\n",
    "    plt.xlabel('False Positive Rate', fontsize=16)\n",
    "    plt.show()\n",
    "\n",
    "\n",
    "import matplotlib.pyplot as plt\n",
    "from sklearn.metrics import precision_recall_curve\n",
    "\n",
    "def plot_pr_curve(y_label, y_proba_pred):\n",
    "    \"\"\"\n",
    "    Plots the Precision-Recall curve for a binary classifier.\n",
    "\n",
    "    Parameters:\n",
    "        y_label (pandas Series): True binary labels of the test set\n",
    "        y_proba_pred (array-like): Predicted probabilities of the test set\n",
    "\n",
    "    Returns:\n",
    "        Shows the plot\n",
    "    \"\"\"\n",
    "\n",
    "    # Calculate precision, recall and threshold using the scikit-learn library\n",
    "    precision, recall, threshold = precision_recall_curve(y_label.values, y_proba_pred)\n",
    "\n",
    "    # Create a new figure for the plot\n",
    "    plt.clf()\n",
    "    plt.figure(figsize=(12,12))\n",
    "\n",
    "    # Set the title and axis labels for the plot\n",
    "    plt.title('Precision-Recall Curve', fontsize=16)\n",
    "    plt.xlabel('Precision', fontsize=16)\n",
    "    plt.ylabel('Sensitivity', fontsize=16)\n",
    "\n",
    "    # Set the limits for the axis\n",
    "    plt.axis([-0.01,1,0,1])\n",
    "    # Plot the Precision-Recall curve using blue line\n",
    "    plt.plot(recall, precision, 'b-', linewidth=2)\n",
    "    plt.plot([0, 1], [0, 1], 'r--')\n",
    "    plt.tight_layout()\n",
    "    plt.show()\n",
    "    # Uncomment the below line to save the plot\n",
    "    # plt.savefig(path +\"\\\\..\\\\Modelling\"+ '\\\\Precision recall curve.png')\n",
    "\n",
    "\n",
    "# Creating a function to report confusion metrics\n",
    "def confusion_metrics(conf_matrix):\n",
    "# save confusion matrix and slice into four pieces\n",
    "    TP = conf_matrix[1][1]\n",
    "    TN = conf_matrix[0][0]\n",
    "    FP = conf_matrix[0][1]\n",
    "    FN = conf_matrix[1][0]\n",
    "    print('True Positives:', TP)\n",
    "    print('True Negatives:', TN)\n",
    "    print('False Positives:', FP)\n",
    "    print('False Negatives:', FN)\n",
    "    \n",
    "    # calculate accuracy\n",
    "    conf_accuracy = (float (TP+TN) / float(TP + TN + FP + FN))\n",
    "    \n",
    "    # calculate mis-classification\n",
    "    conf_misclassification = 1- conf_accuracy\n",
    "    \n",
    "    # calculate the sensitivity\n",
    "    conf_sensitivity = (TP / float(TP + FN))\n",
    "    # calculate the specificity\n",
    "    conf_specificity = (TN / float(TN + FP))\n",
    "    \n",
    "    # calculate precision\n",
    "    conf_precision = (TP / float(TP + FP))\n",
    "    # calculate f_1 score\n",
    "    conf_f1 = 2 * ((conf_precision * conf_sensitivity) / (conf_precision + conf_sensitivity))\n",
    "    print('-'*50)\n",
    "    print(f'Accuracy: {round(conf_accuracy,2)}') \n",
    "    print(f'Mis-Classification: {round(conf_misclassification,2)}') \n",
    "    print(f'Sensitivity: {round(conf_sensitivity,2)}') \n",
    "    print(f'Specificity: {round(conf_specificity,2)}') \n",
    "    print(f'Precision: {round(conf_precision,2)}')\n",
    "    print(f'f_1 Score: {round(conf_f1,2)}')\n",
    "\n",
    "\n",
    "\n",
    "#%% Model training and evaluation\n",
    "import pandas as pd\n",
    "from datetime import datetime\n",
    "from sklearn import metrics\n",
    "from sklearn.metrics import accuracy_score, confusion_matrix, classification_report\n",
    "\n",
    "def model_evaluation(model, X_test, y_test, cutting_point=0.5, show_variables=False, show_params=False, plot_roc=False, plot_pr_curve=False):\n",
    "    \"\"\"\n",
    "    Evaluate a binary classification model.\n",
    "    Args:\n",
    "        model: A trained binary classification model.\n",
    "        X_test: The feature matrix of the test dataset.\n",
    "        y_test: The target vector of the test dataset.\n",
    "        cutting_point: The threshold used to binarize the predicted probabilities.\n",
    "        show_variables: If True, show the variables used in the model.\n",
    "        show_params: If True, show the parameters used to train the model.\n",
    "        plot_roc: If True, plot the ROC curve.\n",
    "        plot_pr_curve: If True, plot the Precision-Recall curve.\n",
    "\n",
    "    Returns:\n",
    "        A tuple containing the predicted probabilities, the binarized predictions, and the validation AUC score.\n",
    "    \"\"\"\n",
    "\n",
    "    # Print separator\n",
    "    print(10 * \"_____________\")\n",
    "\n",
    "    # Show variables used in the model if requested\n",
    "    if show_variables:\n",
    "        print(\"Variables used in the model:\", X_test.columns)\n",
    "\n",
    "    # Show parameters used to train the model if requested\n",
    "    if show_params:\n",
    "        print(\"Parameters used to train the model:\", model.get_params)\n",
    "\n",
    "    # Get predicted probabilities and binarize predictions based on the cutting point\n",
    "    y_proba = model.predict(X_test).tolist()\n",
    "    y_pred = model.predict(X_test).tolist()\n",
    "    y_pred_bin = y_pred\n",
    "    for i in range(len(y_proba)):\n",
    "        if y_pred[i][0] >= cutting_point:\n",
    "            y_pred_bin[i] = 1\n",
    "        else:\n",
    "            y_pred_bin[i] = 0\n",
    "\n",
    "    # Get the current time for model evaluation\n",
    "    modelling_hour = datetime.now()\n",
    "\n",
    "    # Print model evaluation metrics\n",
    "    print(\"Model executed at:\\n\", modelling_hour)\n",
    "    print(\"Cutting point:\", cutting_point)\n",
    "    print('LightGBM Model accuracy score: {0:0.4f}'.format(accuracy_score(y_test, y_pred_bin)))\n",
    "    valid_score = metrics.roc_auc_score(y_test, y_pred_bin)\n",
    "    print(f\"Validation AUC score: {valid_score}\")\n",
    "\n",
    "    # Plot ROC curve if requested\n",
    "    if plot_roc:\n",
    "        plot_roc_auc_curve(y_test, y_proba, valid_score)\n",
    "\n",
    "    # Plot Precision-Recall curve if requested\n",
    "    if plot_pr_curve:\n",
    "        plot_pr_curve(y_test, y_proba)\n",
    "\n",
    "    # Compute and print confusion matrix and other classification metrics\n",
    "    cm = confusion_matrix(y_test, y_pred_bin)\n",
    "    cm_df = pd.DataFrame(cm,\n",
    "                        columns=['Predicted Negative', 'Predicted Positive'],\n",
    "                        index=['Actual Negative', 'Actual Positive'])\n",
    "    print(cm_df)\n",
    "    confusion_metrics(cm)\n",
    "    report = classification_report(y_test, y_pred_bin, target_names=['is_not_attributed', 'is_attributed'])\n",
    "    print(report)\n",
    "\n",
    "    # Return predicted probabilities, binarized predictions, and validation AUC score\n",
    "    return y_proba, y_pred_bin, valid_score\n"
   ]
  },
  {
   "cell_type": "code",
   "execution_count": 111,
   "metadata": {},
   "outputs": [
    {
     "data": {
      "text/plain": [
       "<Figure size 640x480 with 0 Axes>"
      ]
     },
     "metadata": {},
     "output_type": "display_data"
    },
    {
     "data": {
      "image/png": "[encoded data removed]",
      "text/plain": [
       "<Figure size 1200x1200 with 1 Axes>"
      ]
     },
     "metadata": {},
     "output_type": "display_data"
    }
   ],
   "source": [
    "plot_roc_auc_curve(data_test.labels, y_proba, y_pred_bin)"
   ]
  },
  {
   "cell_type": "code",
   "execution_count": 86,
   "metadata": {},
   "outputs": [
    {
     "name": "stdout",
     "output_type": "stream",
     "text": [
      "True Positives: 1335\n",
      "True Negatives: 3432\n",
      "False Positives: 262\n",
      "False Negatives: 721\n",
      "--------------------------------------------------\n",
      "Accuracy: 0.83\n",
      "Mis-Classification: 0.17\n",
      "Sensitivity: 0.65\n",
      "Specificity: 0.93\n",
      "Precision: 0.84\n",
      "f_1 Score: 0.73\n"
     ]
    }
   ],
   "source": [
    "con_mat_df.to_numpy()\n",
    "confusion_metrics(con_mat_df.to_numpy())"
   ]
  },
  {
   "cell_type": "code",
   "execution_count": 89,
   "metadata": {},
   "outputs": [
    {
     "ename": "AttributeError",
     "evalue": "'list' object has no attribute 'values'",
     "output_type": "error",
     "traceback": [
      "\u001b[0;31m---------------------------------------------------------------------------\u001b[0m",
      "\u001b[0;31mAttributeError\u001b[0m                            Traceback (most recent call last)",
      "Cell \u001b[0;32mIn[89], line 1\u001b[0m\n\u001b[0;32m----> 1\u001b[0m plot_pr_curve(data_test\u001b[39m.\u001b[39;49mlabels, y_proba)\n",
      "Cell \u001b[0;32mIn[68], line 84\u001b[0m, in \u001b[0;36mplot_pr_curve\u001b[0;34m(y_label, y_proba_pred)\u001b[0m\n\u001b[1;32m     72\u001b[0m \u001b[39m\u001b[39m\u001b[39m\"\"\"\u001b[39;00m\n\u001b[1;32m     73\u001b[0m \u001b[39mPlots the Precision-Recall curve for a binary classifier.\u001b[39;00m\n\u001b[1;32m     74\u001b[0m \n\u001b[0;32m   (...)\u001b[0m\n\u001b[1;32m     80\u001b[0m \u001b[39m    Shows the plot\u001b[39;00m\n\u001b[1;32m     81\u001b[0m \u001b[39m\"\"\"\u001b[39;00m\n\u001b[1;32m     83\u001b[0m \u001b[39m# Calculate precision, recall and threshold using the scikit-learn library\u001b[39;00m\n\u001b[0;32m---> 84\u001b[0m precision, recall, threshold \u001b[39m=\u001b[39m precision_recall_curve(y_label\u001b[39m.\u001b[39;49mvalues, y_proba_pred)\n\u001b[1;32m     86\u001b[0m \u001b[39m# Create a new figure for the plot\u001b[39;00m\n\u001b[1;32m     87\u001b[0m plt\u001b[39m.\u001b[39mclf()\n",
      "\u001b[0;31mAttributeError\u001b[0m: 'list' object has no attribute 'values'"
     ]
    }
   ],
   "source": [
    "plot_pr_curve(data_test.labels, y_proba)"
   ]
  },
  {
   "cell_type": "markdown",
   "metadata": {},
   "source": [
    "### VGGM"
   ]
  },
  {
   "cell_type": "code",
   "execution_count": 9,
   "metadata": {},
   "outputs": [],
   "source": [
    "from tensorflow.keras.applications.vgg16 import VGG16\n",
    "\n",
    "IMG_SHAPE = (128, 128, 3)\n",
    "\n",
    "# create the base model from the pre-trained model VGG16\n",
    "# note that, if using a Kaggle server, internet has to be turned on\n",
    "pretrained_model = tf.keras.applications.vgg16.VGG16(input_shape=IMG_SHAPE,\n",
    "                                                     include_top=False,\n",
    "                                                     weights='imagenet')\n",
    "\n",
    "# freeze the convolutional base\n",
    "pretrained_model.trainable = False"
   ]
  },
  {
   "cell_type": "code",
   "execution_count": 10,
   "metadata": {},
   "outputs": [
    {
     "name": "stdout",
     "output_type": "stream",
     "text": [
      "Model: \"vgg16\"\n",
      "_________________________________________________________________\n",
      " Layer (type)                Output Shape              Param #   \n",
      "=================================================================\n",
      " input_1 (InputLayer)        [(None, 128, 128, 3)]     0         \n",
      "                                                                 \n",
      " block1_conv1 (Conv2D)       (None, 128, 128, 64)      1792      \n",
      "                                                                 \n",
      " block1_conv2 (Conv2D)       (None, 128, 128, 64)      36928     \n",
      "                                                                 \n",
      " block1_pool (MaxPooling2D)  (None, 64, 64, 64)        0         \n",
      "                                                                 \n",
      " block2_conv1 (Conv2D)       (None, 64, 64, 128)       73856     \n",
      "                                                                 \n",
      " block2_conv2 (Conv2D)       (None, 64, 64, 128)       147584    \n",
      "                                                                 \n",
      " block2_pool (MaxPooling2D)  (None, 32, 32, 128)       0         \n",
      "                                                                 \n",
      " block3_conv1 (Conv2D)       (None, 32, 32, 256)       295168    \n",
      "                                                                 \n",
      " block3_conv2 (Conv2D)       (None, 32, 32, 256)       590080    \n",
      "                                                                 \n",
      " block3_conv3 (Conv2D)       (None, 32, 32, 256)       590080    \n",
      "                                                                 \n",
      " block3_pool (MaxPooling2D)  (None, 16, 16, 256)       0         \n",
      "                                                                 \n",
      " block4_conv1 (Conv2D)       (None, 16, 16, 512)       1180160   \n",
      "                                                                 \n",
      " block4_conv2 (Conv2D)       (None, 16, 16, 512)       2359808   \n",
      "                                                                 \n",
      " block4_conv3 (Conv2D)       (None, 16, 16, 512)       2359808   \n",
      "                                                                 \n",
      " block4_pool (MaxPooling2D)  (None, 8, 8, 512)         0         \n",
      "                                                                 \n",
      " block5_conv1 (Conv2D)       (None, 8, 8, 512)         2359808   \n",
      "                                                                 \n",
      " block5_conv2 (Conv2D)       (None, 8, 8, 512)         2359808   \n",
      "                                                                 \n",
      " block5_conv3 (Conv2D)       (None, 8, 8, 512)         2359808   \n",
      "                                                                 \n",
      " block5_pool (MaxPooling2D)  (None, 4, 4, 512)         0         \n",
      "                                                                 \n",
      "=================================================================\n",
      "Total params: 14,714,688\n",
      "Trainable params: 0\n",
      "Non-trainable params: 14,714,688\n",
      "_________________________________________________________________\n"
     ]
    }
   ],
   "source": [
    "pretrained_model.summary()"
   ]
  },
  {
   "cell_type": "code",
   "execution_count": 11,
   "metadata": {},
   "outputs": [
    {
     "name": "stdout",
     "output_type": "stream",
     "text": [
      "Trial 2 Complete [01h 44m 54s]\n",
      "val_accuracy: 0.7026087045669556\n",
      "\n",
      "Best val_accuracy So Far: 0.7026087045669556\n",
      "Total elapsed time: 01h 54m 18s\n",
      "\n",
      "Search: Running Trial #3\n",
      "\n",
      "Value             |Best Value So Far |Hyperparameter\n",
      "sgd               |sgd               |optimizer\n",
      "0.0001            |1e-05             |learning_rate\n",
      "\n",
      "Epoch 1/6\n"
     ]
    },
    {
     "name": "stderr",
     "output_type": "stream",
     "text": [
      "2023-03-17 20:43:33.065122: I tensorflow/core/grappler/optimizers/custom_graph_optimizer_registry.cc:114] Plugin optimizer for device_type GPU is enabled.\n"
     ]
    },
    {
     "name": "stdout",
     "output_type": "stream",
     "text": [
      "  6/486 [..............................] - ETA: 12:24 - loss: 0.7117 - accuracy: 0.3385WARNING:tensorflow:Callback method `on_train_batch_end` is slow compared to the batch time (batch time: 0.5214s vs `on_train_batch_end` time: 0.9761s). Check your callbacks.\n",
      "486/486 [==============================] - ETA: 0s - loss: 0.6695 - accuracy: 0.6158"
     ]
    },
    {
     "name": "stderr",
     "output_type": "stream",
     "text": [
      "2023-03-17 20:55:45.293521: I tensorflow/core/grappler/optimizers/custom_graph_optimizer_registry.cc:114] Plugin optimizer for device_type GPU is enabled.\n"
     ]
    },
    {
     "name": "stdout",
     "output_type": "stream",
     "text": [
      "486/486 [==============================] - 756s 2s/step - loss: 0.6695 - accuracy: 0.6158 - val_loss: 0.6389 - val_accuracy: 0.6730\n",
      "Epoch 2/6\n",
      "486/486 [==============================] - 842s 2s/step - loss: 0.6099 - accuracy: 0.6890 - val_loss: 0.5711 - val_accuracy: 0.7542\n",
      "Epoch 3/6\n",
      "253/486 [==============>...............] - ETA: 9:06 - loss: 0.5447 - accuracy: 0.7987"
     ]
    }
   ],
   "source": [
    "from tensorflow.keras import layers\n",
    "from keras_tuner import RandomSearch\n",
    "from keras_tuner.engine.hyperparameters import HyperParameters\n",
    "from keras.callbacks import TensorBoard, EarlyStopping\n",
    "\n",
    "\n",
    "def create_model_vgg16(hp):\n",
    "    model = Sequential()\n",
    "    model.add(VGG16(weights='imagenet', include_top=False, input_shape=(128, 128, 3)))\n",
    "    model.add(Flatten())\n",
    "    model.add(Dense(1024, activation='relu'))\n",
    "    model.add(Dense(512, activation='relu'))\n",
    "    model.add(Dense(256, activation='relu'))\n",
    "    model.add(Dense(128, activation='relu'))\n",
    "    model.add(Dense(64, activation='relu'))\n",
    "    model.add(Dense(32, activation='relu'))\n",
    "    model.add(Dense(2, activation='softmax'))\n",
    "    \n",
    "    model.compile(optimizer=hp.Choice('optimizer', values=['adam', 'sgd']), \n",
    "                  loss='binary_crossentropy', \n",
    "                  metrics=['accuracy'])\n",
    "    \n",
    "    model.optimizer.learning_rate = hp.Choice('learning_rate', values=[1e-7, 1e-6, 1e-5, 1e-4])\n",
    "\n",
    "    return model\n",
    "\n",
    "# Define the search space of hyperparameters\n",
    "tuner_hp = HyperParameters()\n",
    "tuner_hp.Choice('optimizer', values=['adam', 'sgd'])\n",
    "# tuner_hp.Float('learning_rate', 1e-7, 1e-4, sampling='log')\n",
    "tuner_hp.Choice('learning_rate', values=[1e-7, 1e-6, 1e-5, 1e-4])\n",
    "\n",
    "# Create the tuner object\n",
    "tuner = RandomSearch(\n",
    "    create_model_vgg16,\n",
    "    hyperparameters=tuner_hp,\n",
    "    objective='val_accuracy',\n",
    "    max_trials=8,\n",
    "    # executions_per_trial=3,\n",
    "    overwrite = True,\n",
    "    # directory='',\n",
    "    project_name='my_project')\n",
    "\n",
    "\n",
    "now = datetime.datetime.now()\n",
    "log_dir = f\"./logs_vgg16_{now.strftime('%Y.%m.%d_%H.%M')}\"\n",
    "\n",
    "tensorboard = TensorBoard(log_dir=log_dir, histogram_freq=0,\n",
    "                          write_graph=True, write_images=False)\n",
    "\n",
    "early_stopping = EarlyStopping(\n",
    "    monitor='val_accuracy', \n",
    "    patience=1, \n",
    "    mode = \"max\", \n",
    "    # start_from_epoch=2,\n",
    "    min_delta=0.005\n",
    "    )\n",
    "\n",
    "# Run the search\n",
    "tuner.search(data_train, \n",
    "             epochs=6, \n",
    "             validation_data = data_val, \n",
    "             callbacks=[tensorboard, early_stopping]\n",
    "             )"
   ]
  },
  {
   "attachments": {},
   "cell_type": "markdown",
   "metadata": {},
   "source": []
  }
 ],
 "metadata": {
  "kernelspec": {
   "display_name": "Python 3.10 (tensorflow)",
   "language": "python",
   "name": "tensorflow"
  },
  "language_info": {
   "codemirror_mode": {
    "name": "ipython",
    "version": 3
   },
   "file_extension": ".py",
   "mimetype": "text/x-python",
   "name": "python",
   "nbconvert_exporter": "python",
   "pygments_lexer": "ipython3",
   "version": "3.10.9"
  },
  "orig_nbformat": 4
 },
 "nbformat": 4,
 "nbformat_minor": 2
}
